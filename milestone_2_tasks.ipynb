{
  "cells": [
    {
      "cell_type": "markdown",
      "metadata": {
        "id": "i_xLFYD8a_h3"
      },
      "source": [
        "# Movie Recommendation - Milestone 2"
      ]
    },
    {
      "cell_type": "markdown",
      "metadata": {
        "id": "6oqxOZTvTXvW"
      },
      "source": [
        "<details>\n",
        "  <summary>Click in any of these links to compare your solution with ours up to this point</summary>\n",
        "  <p>\n",
        "    <a href=\"https://colab.research.google.com/github/AI-Core/movie-recommendation-solutions/blob/main/solution_m1.ipynb\" target=\"_parent\">Solution for milestone 1</a>\n",
        "  </p>\n",
        "</details>"
      ]
    },
    {
      "cell_type": "code",
      "execution_count": 1,
      "metadata": {
        "colab": {
          "base_uri": "https://localhost:8080/"
        },
        "id": "RLn-_E7Ba3Q4",
        "outputId": "09cc52a6-70b8-4224-c0e9-0f916a7ebde1"
      },
      "outputs": [
        {
          "output_type": "stream",
          "name": "stdout",
          "text": [
            "Looking in indexes: https://pypi.org/simple, https://us-python.pkg.dev/colab-wheels/public/simple/\n",
            "Collecting movie-rec-marking-aicore\n",
            "  Downloading movie-rec-marking-aicore-0.1.2.tar.gz (5.1 kB)\n",
            "Requirement already satisfied: urllib3 in /usr/local/lib/python3.8/dist-packages (from movie-rec-marking-aicore) (1.24.3)\n",
            "Collecting timeout-decorator\n",
            "  Downloading timeout-decorator-0.5.0.tar.gz (4.8 kB)\n",
            "Building wheels for collected packages: movie-rec-marking-aicore, timeout-decorator\n",
            "  Building wheel for movie-rec-marking-aicore (setup.py) ... \u001b[?25l\u001b[?25hdone\n",
            "  Created wheel for movie-rec-marking-aicore: filename=movie_rec_marking_aicore-0.1.2-py3-none-any.whl size=8127 sha256=582f337b7e152e85d40cc6afb1a09583c004329aadb61a734bcaaa10d7571d01\n",
            "  Stored in directory: /root/.cache/pip/wheels/f5/33/5c/0d2f29fc0a1e997dfd34fd8172b33734a3c6d0224104636e8d\n",
            "  Building wheel for timeout-decorator (setup.py) ... \u001b[?25l\u001b[?25hdone\n",
            "  Created wheel for timeout-decorator: filename=timeout_decorator-0.5.0-py3-none-any.whl size=5028 sha256=8af8c0e0bea555690788f4d50ddbbb59dd98cc15b7cf70c2363442ccaaa7aa48\n",
            "  Stored in directory: /root/.cache/pip/wheels/38/05/4e/161d1463ca145ec1023bd4e5e1f31cbf9239aa8f39a2a2b643\n",
            "Successfully built movie-rec-marking-aicore timeout-decorator\n",
            "Installing collected packages: timeout-decorator, movie-rec-marking-aicore\n",
            "Successfully installed movie-rec-marking-aicore-0.1.2 timeout-decorator-0.5.0\n",
            "--2022-12-20 20:51:09--  https://aicore-files.s3.amazonaws.com/Movie-Recommendation/movies-head.json\n",
            "Resolving aicore-files.s3.amazonaws.com (aicore-files.s3.amazonaws.com)... 54.231.138.105, 52.217.132.9, 52.217.91.164, ...\n",
            "Connecting to aicore-files.s3.amazonaws.com (aicore-files.s3.amazonaws.com)|54.231.138.105|:443... connected.\n",
            "HTTP request sent, awaiting response... 200 OK\n",
            "Length: 3186 (3.1K) [application/json]\n",
            "Saving to: ‘movies-head.json’\n",
            "\n",
            "movies-head.json    100%[===================>]   3.11K  --.-KB/s    in 0s      \n",
            "\n",
            "2022-12-20 20:51:09 (104 MB/s) - ‘movies-head.json’ saved [3186/3186]\n",
            "\n"
          ]
        }
      ],
      "source": [
        "#@title # Run this cell before you start coding { display-mode: \"form\" }\n",
        "!pip install movie-rec-marking-aicore --upgrade\n",
        "!wget https://aicore-files.s3.amazonaws.com/Movie-Recommendation/movies-head.json\n",
        "import json\n",
        "from movie_rec_marking import test_milestone_2\n",
        "\n",
        "# Load the movies\n",
        "with open('movies-head.json', 'r') as f:\n",
        "    movies = json.load(f)"
      ]
    },
    {
      "cell_type": "markdown",
      "metadata": {
        "id": "MYQw48Lqa3Q4"
      },
      "source": [
        "# Task 1 \n",
        "### Show Every Movie Name"
      ]
    },
    {
      "cell_type": "code",
      "execution_count": 2,
      "metadata": {
        "id": "1UpT9BAym0iW",
        "colab": {
          "base_uri": "https://localhost:8080/"
        },
        "outputId": "b3d994a1-8904-42b9-cef1-cae68aa2f633"
      },
      "outputs": [
        {
          "output_type": "stream",
          "name": "stdout",
          "text": [
            "The Shawshank Redemption\n",
            "The Godfather\n",
            "The Dark Knight\n",
            "The Godfather: Part II\n",
            "12 Angry Men\n"
          ]
        }
      ],
      "source": [
        "for movie in movies:\n",
        "  print(movie[\"title\"])"
      ]
    },
    {
      "cell_type": "code",
      "execution_count": null,
      "metadata": {
        "id": "Heg3GxLGTXvb"
      },
      "outputs": [],
      "source": [
        "#@title Run this cell to check your solution { display-mode: \"form\", run: \"auto\" }\n",
        "assert 'print_every_movie_title' in globals(), \"Please define the function print_every_movie_title\"\n",
        "task_1 = test_milestone_2.check_print_every_movie_title(print_every_movie_title)"
      ]
    },
    {
      "cell_type": "markdown",
      "metadata": {
        "id": "YUg_ELkBTXvb"
      },
      "source": [
        "# Task 2 \n",
        "\n",
        "### What is the Length of a Given Movie's Description?"
      ]
    },
    {
      "cell_type": "code",
      "execution_count": 3,
      "metadata": {
        "colab": {
          "base_uri": "https://localhost:8080/"
        },
        "id": "p_99TP7BTXvc",
        "outputId": "074def54-7fff-4b49-a32e-d56c3b454e50"
      },
      "outputs": [
        {
          "output_type": "stream",
          "name": "stdout",
          "text": [
            "The length of the description of the movie The Shawshank Redemption is 118 characters\n",
            "The length of the description of the movie The Godfather is 149 characters\n",
            "The length of the description of the movie The Dark Knight is 189 characters\n",
            "The length of the description of the movie The Godfather: Part II is 164 characters\n",
            "The length of the description of the movie 12 Angry Men is 184 characters\n"
          ]
        }
      ],
      "source": [
        "for movie in movies:\n",
        "  print(f'The length of the description of the movie {movie[\"title\"]} is {len(movie[\"description\"])} characters')\n"
      ]
    },
    {
      "cell_type": "code",
      "execution_count": null,
      "metadata": {
        "id": "P7QMVzuJTXvc"
      },
      "outputs": [],
      "source": [
        "#@title Run this cell to check your solution { display-mode: \"form\", run: \"auto\" }\n",
        "assert 'get_movie_description_length' in globals(), \"Please define the function get_movie_description_length\"\n",
        "task_2 = test_milestone_2.check_get_movie_description_length(get_movie_description_length, task_1)"
      ]
    },
    {
      "cell_type": "markdown",
      "metadata": {
        "id": "s-2mSzWqTXve"
      },
      "source": [
        "# Task 3\n",
        "\n",
        "### What is the Average Length of any Movie Description?"
      ]
    },
    {
      "cell_type": "code",
      "execution_count": 8,
      "metadata": {
        "colab": {
          "base_uri": "https://localhost:8080/"
        },
        "id": "1fJzgErzTXve",
        "outputId": "75abc2e2-ea33-419d-ddcb-5c2d9ef4f858"
      },
      "outputs": [
        {
          "output_type": "stream",
          "name": "stdout",
          "text": [
            "The average length of any movie description is: 160.8\n"
          ]
        }
      ],
      "source": [
        "desc_list = [movie['description'] for movie in movies]\n",
        "desc_list_len = [len(desc) for desc in desc_list]\n",
        "avg_length = sum(desc_list_len) / len(desc_list_len)\n",
        "print('The average length of any movie description is:', avg_length)"
      ]
    },
    {
      "cell_type": "code",
      "execution_count": null,
      "metadata": {
        "id": "QmJxenTlTXve"
      },
      "outputs": [],
      "source": [
        "#@title Run this cell to check your solution { display-mode: \"form\", run: \"auto\" }\n",
        "assert 'get_avg_movie_description_length' in globals(), \"Please define the function get_avg_movie_description_length\"\n",
        "task_3 = test_milestone_2.check_get_avg_movie_description_length(get_avg_movie_description_length, task_2)"
      ]
    },
    {
      "cell_type": "markdown",
      "metadata": {
        "id": "id0T7zLHTXvf"
      },
      "source": [
        "# Task 4\n",
        "\n",
        "### What is the Maximum Length of any Movie Name?"
      ]
    },
    {
      "cell_type": "code",
      "execution_count": 14,
      "metadata": {
        "colab": {
          "base_uri": "https://localhost:8080/"
        },
        "id": "Cg-3o6_gTXvf",
        "outputId": "27f71286-4911-4426-c0f4-e564bddf2c45"
      },
      "outputs": [
        {
          "output_type": "stream",
          "name": "stdout",
          "text": [
            "The maximum length of any movie name is 24\n"
          ]
        }
      ],
      "source": [
        "title_list = [movie['title'] for movie in movies]\n",
        "title_len_list = [len(title) for title in title_list]\n",
        "\n",
        "print(f'The maximum length of any movie name is {max(title_len_list)}')"
      ]
    },
    {
      "cell_type": "code",
      "execution_count": null,
      "metadata": {
        "id": "mdEwskIGTXvf"
      },
      "outputs": [],
      "source": [
        "#@title Run this cell to check your solution { display-mode: \"form\", run: \"auto\" }\n",
        "assert 'get_max_movie_name_length' in globals(), \"Please define the function get_max_movie_name_length\"\n",
        "task_4 = test_milestone_2.check_get_max_movie_name_length(get_max_movie_name_length, task_3)"
      ]
    }
  ],
  "metadata": {
    "colab": {
      "provenance": []
    },
    "kernelspec": {
      "display_name": "Python 3.9.5 ('base')",
      "language": "python",
      "name": "python3"
    },
    "language_info": {
      "codemirror_mode": {
        "name": "ipython",
        "version": 3
      },
      "file_extension": ".py",
      "mimetype": "text/x-python",
      "name": "python",
      "nbconvert_exporter": "python",
      "pygments_lexer": "ipython3",
      "version": "3.9.5"
    },
    "orig_nbformat": 4,
    "vscode": {
      "interpreter": {
        "hash": "ce99af5845ff7f417c6fe57e3883abe41597db90e3f493c4f9da5159bbc46102"
      }
    }
  },
  "nbformat": 4,
  "nbformat_minor": 0
}